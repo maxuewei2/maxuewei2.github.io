{
 "cells": [
  {
   "cell_type": "markdown",
   "metadata": {},
   "source": [
    "[Back to index](index.html)"
   ]
  },
  {
   "cell_type": "markdown",
   "metadata": {},
   "source": [
    "# About"
   ]
  },
  {
   "cell_type": "markdown",
   "metadata": {},
   "source": [
    "- Email:\n",
    "    - [maxuewei1995@126.com](mailto:maxuewei1995@126.com)\n",
    "- Github:\n",
    "    - [@maxuewei2](https://github.com/maxuewei2)\n",
    "- 博客园:\n",
    "    - [@maxuewei2](https://cnblogs.com/maxuewei2)\n",
    "- 知乎:\n",
    "    - [@maxuewei2](https://www.zhihu.com/people/maxuewei2)\n",
    "- 微博:\n",
    "    - [@maxuewei2](http://weibo.com/maxuewei2)"
   ]
  }
 ],
 "metadata": {
  "kernelspec": {
   "display_name": "Python 3",
   "language": "python",
   "name": "python3"
  },
  "language_info": {
   "codemirror_mode": {
    "name": "ipython",
    "version": 3
   },
   "file_extension": ".py",
   "mimetype": "text/x-python",
   "name": "python",
   "nbconvert_exporter": "python",
   "pygments_lexer": "ipython3",
   "version": "3.6.4"
  }
 },
 "nbformat": 4,
 "nbformat_minor": 2
}
